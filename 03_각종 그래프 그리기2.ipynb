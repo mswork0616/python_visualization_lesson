{
 "cells": [
  {
   "cell_type": "markdown",
   "metadata": {},
   "source": [
    "# 4. 파이차트 그리기\n",
    "## 4.1 파이차트\n",
    "- 각 범주(Category)가 데이터에서 차지하는 비율을 나타내는데 사용\n",
    "- `pie(x, labels)` 이용\n",
    "    - x: 값 (값들을 100을 기준으로 비율을 계산해 크기 설정)\n",
    "    - labels : 값들의 label\n",
    "    - autopct: 조각내에 표시될 비율의 문자열 형식. '%fmt문자' \n",
    "        - fmt문자: f(실수), d(정수), %% (%)\n",
    "            "
   ]
  },
  {
   "cell_type": "code",
   "execution_count": 1,
   "metadata": {},
   "outputs": [],
   "source": [
    "import matplotlib.pyplot as plt\n",
    "import pandas as pd\n",
    "import numpy as np\n",
    "import warnings\n",
    "warnings.filterwarnings(action='ignore')"
   ]
  },
  {
   "cell_type": "code",
   "execution_count": 2,
   "metadata": {},
   "outputs": [
    {
     "data": {
      "image/png": "[encoded data removed]",
      "text/plain": [
       "<Figure size 432x288 with 1 Axes>"
      ]
     },
     "metadata": {},
     "output_type": "display_data"
    }
   ],
   "source": [
    "# 차트 대상/값 설정\n",
    "fruits = ['사과', '배', '귤', '딸기']\n",
    "counts = [20, 30, 10, 50]\n",
    "# 파이차트 적용\n",
    "plt.pie(counts, labels=fruits,  # 수량, labels=대상\n",
    "        autopct='%.2f%%', # 소수점 2자리까지 '%'를 붙여 표현\n",
    "        explode=[0, 0.1, 0, 0.1], # [0 ~ 1 의 소수] : 대상을 따로 분리\n",
    "        shadow=True # 그림자 처리\n",
    "       )\n",
    "# 출력\n",
    "plt.show()"
   ]
  },
  {
   "cell_type": "markdown",
   "metadata": {},
   "source": [
    "## 4.2 파이차트 활용\n",
    "- 한국 웹브라우저 점유율을 파이차트로 작성\n",
    "    - https://www.koreahtml5.kr/front/stats/browser/browserUseStats.do"
   ]
  },
  {
   "cell_type": "code",
   "execution_count": 3,
   "metadata": {},
   "outputs": [
    {
     "data": {
      "text/html": [
       "<div>\n",
       "<style scoped>\n",
       "    .dataframe tbody tr th:only-of-type {\n",
       "        vertical-align: middle;\n",
       "    }\n",
       "\n",
       "    .dataframe tbody tr th {\n",
       "        vertical-align: top;\n",
       "    }\n",
       "\n",
       "    .dataframe thead th {\n",
       "        text-align: right;\n",
       "    }\n",
       "</style>\n",
       "<table border=\"1\" class=\"dataframe\">\n",
       "  <thead>\n",
       "    <tr style=\"text-align: right;\">\n",
       "      <th></th>\n",
       "      <th>Chrome</th>\n",
       "      <th>Edge</th>\n",
       "      <th>IE</th>\n",
       "      <th>Whale Browser</th>\n",
       "      <th>Safari</th>\n",
       "      <th>Firefox</th>\n",
       "      <th>Opera</th>\n",
       "      <th>Edge Legacy</th>\n",
       "      <th>360 Safe Browser</th>\n",
       "      <th>Pale Moon</th>\n",
       "      <th>Sogou Explorer</th>\n",
       "      <th>QQ Browser</th>\n",
       "      <th>Swing</th>\n",
       "      <th>Yandex Browser</th>\n",
       "      <th>Mozilla</th>\n",
       "      <th>Maxthon</th>\n",
       "      <th>Coc Coc</th>\n",
       "    </tr>\n",
       "    <tr>\n",
       "      <th>date</th>\n",
       "      <th></th>\n",
       "      <th></th>\n",
       "      <th></th>\n",
       "      <th></th>\n",
       "      <th></th>\n",
       "      <th></th>\n",
       "      <th></th>\n",
       "      <th></th>\n",
       "      <th></th>\n",
       "      <th></th>\n",
       "      <th></th>\n",
       "      <th></th>\n",
       "      <th></th>\n",
       "      <th></th>\n",
       "      <th></th>\n",
       "      <th></th>\n",
       "      <th></th>\n",
       "    </tr>\n",
       "  </thead>\n",
       "  <tbody>\n",
       "    <tr>\n",
       "      <th>2021.06</th>\n",
       "      <td>70.43</td>\n",
       "      <td>12.84</td>\n",
       "      <td>5.85</td>\n",
       "      <td>5.45</td>\n",
       "      <td>2.46</td>\n",
       "      <td>1.72</td>\n",
       "      <td>0.59</td>\n",
       "      <td>0.22</td>\n",
       "      <td>0.21</td>\n",
       "      <td>0.00</td>\n",
       "      <td>0.05</td>\n",
       "      <td>0.04</td>\n",
       "      <td>0.03</td>\n",
       "      <td>0.03</td>\n",
       "      <td>0.02</td>\n",
       "      <td>0.02</td>\n",
       "      <td>0.02</td>\n",
       "    </tr>\n",
       "    <tr>\n",
       "      <th>2021.07</th>\n",
       "      <td>69.90</td>\n",
       "      <td>13.71</td>\n",
       "      <td>5.56</td>\n",
       "      <td>5.23</td>\n",
       "      <td>2.42</td>\n",
       "      <td>1.84</td>\n",
       "      <td>0.71</td>\n",
       "      <td>0.19</td>\n",
       "      <td>0.18</td>\n",
       "      <td>0.00</td>\n",
       "      <td>0.04</td>\n",
       "      <td>0.03</td>\n",
       "      <td>0.03</td>\n",
       "      <td>0.07</td>\n",
       "      <td>0.02</td>\n",
       "      <td>0.02</td>\n",
       "      <td>0.02</td>\n",
       "    </tr>\n",
       "    <tr>\n",
       "      <th>2021.08</th>\n",
       "      <td>69.34</td>\n",
       "      <td>14.46</td>\n",
       "      <td>5.27</td>\n",
       "      <td>5.46</td>\n",
       "      <td>2.54</td>\n",
       "      <td>1.75</td>\n",
       "      <td>0.62</td>\n",
       "      <td>0.16</td>\n",
       "      <td>0.15</td>\n",
       "      <td>0.00</td>\n",
       "      <td>0.04</td>\n",
       "      <td>0.02</td>\n",
       "      <td>0.03</td>\n",
       "      <td>0.05</td>\n",
       "      <td>0.04</td>\n",
       "      <td>0.03</td>\n",
       "      <td>0.02</td>\n",
       "    </tr>\n",
       "    <tr>\n",
       "      <th>2021.09</th>\n",
       "      <td>69.92</td>\n",
       "      <td>14.57</td>\n",
       "      <td>4.53</td>\n",
       "      <td>5.52</td>\n",
       "      <td>2.50</td>\n",
       "      <td>1.74</td>\n",
       "      <td>0.69</td>\n",
       "      <td>0.17</td>\n",
       "      <td>0.13</td>\n",
       "      <td>0.00</td>\n",
       "      <td>0.03</td>\n",
       "      <td>0.02</td>\n",
       "      <td>0.03</td>\n",
       "      <td>0.05</td>\n",
       "      <td>0.03</td>\n",
       "      <td>0.02</td>\n",
       "      <td>0.02</td>\n",
       "    </tr>\n",
       "    <tr>\n",
       "      <th>2021.10</th>\n",
       "      <td>70.49</td>\n",
       "      <td>14.78</td>\n",
       "      <td>3.42</td>\n",
       "      <td>5.87</td>\n",
       "      <td>2.51</td>\n",
       "      <td>1.82</td>\n",
       "      <td>0.62</td>\n",
       "      <td>0.13</td>\n",
       "      <td>0.12</td>\n",
       "      <td>0.00</td>\n",
       "      <td>0.03</td>\n",
       "      <td>0.02</td>\n",
       "      <td>0.03</td>\n",
       "      <td>0.05</td>\n",
       "      <td>0.04</td>\n",
       "      <td>0.02</td>\n",
       "      <td>0.02</td>\n",
       "    </tr>\n",
       "    <tr>\n",
       "      <th>2021.11</th>\n",
       "      <td>70.57</td>\n",
       "      <td>14.88</td>\n",
       "      <td>3.17</td>\n",
       "      <td>5.90</td>\n",
       "      <td>2.57</td>\n",
       "      <td>1.77</td>\n",
       "      <td>0.64</td>\n",
       "      <td>0.11</td>\n",
       "      <td>0.14</td>\n",
       "      <td>0.00</td>\n",
       "      <td>0.03</td>\n",
       "      <td>0.04</td>\n",
       "      <td>0.02</td>\n",
       "      <td>0.04</td>\n",
       "      <td>0.04</td>\n",
       "      <td>0.01</td>\n",
       "      <td>0.02</td>\n",
       "    </tr>\n",
       "    <tr>\n",
       "      <th>2021.12</th>\n",
       "      <td>70.89</td>\n",
       "      <td>14.90</td>\n",
       "      <td>2.86</td>\n",
       "      <td>5.99</td>\n",
       "      <td>2.53</td>\n",
       "      <td>1.79</td>\n",
       "      <td>0.59</td>\n",
       "      <td>0.10</td>\n",
       "      <td>0.12</td>\n",
       "      <td>0.00</td>\n",
       "      <td>0.03</td>\n",
       "      <td>0.05</td>\n",
       "      <td>0.02</td>\n",
       "      <td>0.04</td>\n",
       "      <td>0.04</td>\n",
       "      <td>0.01</td>\n",
       "      <td>0.02</td>\n",
       "    </tr>\n",
       "    <tr>\n",
       "      <th>2022.01</th>\n",
       "      <td>71.09</td>\n",
       "      <td>15.18</td>\n",
       "      <td>2.58</td>\n",
       "      <td>5.79</td>\n",
       "      <td>2.55</td>\n",
       "      <td>1.86</td>\n",
       "      <td>0.58</td>\n",
       "      <td>0.09</td>\n",
       "      <td>0.09</td>\n",
       "      <td>0.00</td>\n",
       "      <td>0.02</td>\n",
       "      <td>0.02</td>\n",
       "      <td>0.01</td>\n",
       "      <td>0.03</td>\n",
       "      <td>0.04</td>\n",
       "      <td>0.01</td>\n",
       "      <td>0.03</td>\n",
       "    </tr>\n",
       "    <tr>\n",
       "      <th>2022.02</th>\n",
       "      <td>71.02</td>\n",
       "      <td>15.72</td>\n",
       "      <td>1.90</td>\n",
       "      <td>5.73</td>\n",
       "      <td>2.66</td>\n",
       "      <td>2.07</td>\n",
       "      <td>0.59</td>\n",
       "      <td>0.10</td>\n",
       "      <td>0.04</td>\n",
       "      <td>0.00</td>\n",
       "      <td>0.01</td>\n",
       "      <td>0.01</td>\n",
       "      <td>0.01</td>\n",
       "      <td>0.02</td>\n",
       "      <td>0.06</td>\n",
       "      <td>0.01</td>\n",
       "      <td>0.02</td>\n",
       "    </tr>\n",
       "    <tr>\n",
       "      <th>2022.03</th>\n",
       "      <td>72.87</td>\n",
       "      <td>14.43</td>\n",
       "      <td>1.81</td>\n",
       "      <td>5.51</td>\n",
       "      <td>2.59</td>\n",
       "      <td>2.00</td>\n",
       "      <td>0.53</td>\n",
       "      <td>0.10</td>\n",
       "      <td>0.03</td>\n",
       "      <td>0.00</td>\n",
       "      <td>0.01</td>\n",
       "      <td>0.01</td>\n",
       "      <td>0.01</td>\n",
       "      <td>0.03</td>\n",
       "      <td>0.04</td>\n",
       "      <td>0.01</td>\n",
       "      <td>0.02</td>\n",
       "    </tr>\n",
       "    <tr>\n",
       "      <th>2022.04</th>\n",
       "      <td>71.73</td>\n",
       "      <td>14.92</td>\n",
       "      <td>1.79</td>\n",
       "      <td>5.71</td>\n",
       "      <td>2.45</td>\n",
       "      <td>2.47</td>\n",
       "      <td>0.60</td>\n",
       "      <td>0.09</td>\n",
       "      <td>0.03</td>\n",
       "      <td>0.05</td>\n",
       "      <td>0.01</td>\n",
       "      <td>0.02</td>\n",
       "      <td>0.00</td>\n",
       "      <td>0.03</td>\n",
       "      <td>0.04</td>\n",
       "      <td>0.00</td>\n",
       "      <td>0.03</td>\n",
       "    </tr>\n",
       "    <tr>\n",
       "      <th>2022.05</th>\n",
       "      <td>71.25</td>\n",
       "      <td>15.72</td>\n",
       "      <td>1.59</td>\n",
       "      <td>5.85</td>\n",
       "      <td>2.63</td>\n",
       "      <td>2.11</td>\n",
       "      <td>0.53</td>\n",
       "      <td>0.08</td>\n",
       "      <td>0.04</td>\n",
       "      <td>0.06</td>\n",
       "      <td>0.01</td>\n",
       "      <td>0.01</td>\n",
       "      <td>0.00</td>\n",
       "      <td>0.03</td>\n",
       "      <td>0.04</td>\n",
       "      <td>0.00</td>\n",
       "      <td>0.03</td>\n",
       "    </tr>\n",
       "    <tr>\n",
       "      <th>2022.06</th>\n",
       "      <td>71.14</td>\n",
       "      <td>15.92</td>\n",
       "      <td>1.31</td>\n",
       "      <td>6.06</td>\n",
       "      <td>2.74</td>\n",
       "      <td>1.92</td>\n",
       "      <td>0.59</td>\n",
       "      <td>0.08</td>\n",
       "      <td>0.03</td>\n",
       "      <td>0.04</td>\n",
       "      <td>0.02</td>\n",
       "      <td>0.02</td>\n",
       "      <td>0.00</td>\n",
       "      <td>0.04</td>\n",
       "      <td>0.04</td>\n",
       "      <td>0.00</td>\n",
       "      <td>0.03</td>\n",
       "    </tr>\n",
       "  </tbody>\n",
       "</table>\n",
       "</div>"
      ],
      "text/plain": [
       "         Chrome   Edge    IE  Whale Browser  Safari  Firefox  Opera  \\\n",
       "date                                                                  \n",
       "2021.06   70.43  12.84  5.85           5.45    2.46     1.72   0.59   \n",
       "2021.07   69.90  13.71  5.56           5.23    2.42     1.84   0.71   \n",
       "2021.08   69.34  14.46  5.27           5.46    2.54     1.75   0.62   \n",
       "2021.09   69.92  14.57  4.53           5.52    2.50     1.74   0.69   \n",
       "2021.10   70.49  14.78  3.42           5.87    2.51     1.82   0.62   \n",
       "2021.11   70.57  14.88  3.17           5.90    2.57     1.77   0.64   \n",
       "2021.12   70.89  14.90  2.86           5.99    2.53     1.79   0.59   \n",
       "2022.01   71.09  15.18  2.58           5.79    2.55     1.86   0.58   \n",
       "2022.02   71.02  15.72  1.90           5.73    2.66     2.07   0.59   \n",
       "2022.03   72.87  14.43  1.81           5.51    2.59     2.00   0.53   \n",
       "2022.04   71.73  14.92  1.79           5.71    2.45     2.47   0.60   \n",
       "2022.05   71.25  15.72  1.59           5.85    2.63     2.11   0.53   \n",
       "2022.06   71.14  15.92  1.31           6.06    2.74     1.92   0.59   \n",
       "\n",
       "         Edge Legacy  360 Safe Browser  Pale Moon  Sogou Explorer  QQ Browser  \\\n",
       "date                                                                            \n",
       "2021.06         0.22              0.21       0.00            0.05        0.04   \n",
       "2021.07         0.19              0.18       0.00            0.04        0.03   \n",
       "2021.08         0.16              0.15       0.00            0.04        0.02   \n",
       "2021.09         0.17              0.13       0.00            0.03        0.02   \n",
       "2021.10         0.13              0.12       0.00            0.03        0.02   \n",
       "2021.11         0.11              0.14       0.00            0.03        0.04   \n",
       "2021.12         0.10              0.12       0.00            0.03        0.05   \n",
       "2022.01         0.09              0.09       0.00            0.02        0.02   \n",
       "2022.02         0.10              0.04       0.00            0.01        0.01   \n",
       "2022.03         0.10              0.03       0.00            0.01        0.01   \n",
       "2022.04         0.09              0.03       0.05            0.01        0.02   \n",
       "2022.05         0.08              0.04       0.06            0.01        0.01   \n",
       "2022.06         0.08              0.03       0.04            0.02        0.02   \n",
       "\n",
       "         Swing  Yandex Browser  Mozilla  Maxthon  Coc Coc  \n",
       "date                                                       \n",
       "2021.06   0.03            0.03     0.02     0.02     0.02  \n",
       "2021.07   0.03            0.07     0.02     0.02     0.02  \n",
       "2021.08   0.03            0.05     0.04     0.03     0.02  \n",
       "2021.09   0.03            0.05     0.03     0.02     0.02  \n",
       "2021.10   0.03            0.05     0.04     0.02     0.02  \n",
       "2021.11   0.02            0.04     0.04     0.01     0.02  \n",
       "2021.12   0.02            0.04     0.04     0.01     0.02  \n",
       "2022.01   0.01            0.03     0.04     0.01     0.03  \n",
       "2022.02   0.01            0.02     0.06     0.01     0.02  \n",
       "2022.03   0.01            0.03     0.04     0.01     0.02  \n",
       "2022.04   0.00            0.03     0.04     0.00     0.03  \n",
       "2022.05   0.00            0.03     0.04     0.00     0.03  \n",
       "2022.06   0.00            0.04     0.04     0.00     0.03  "
      ]
     },
     "execution_count": 3,
     "metadata": {},
     "output_type": "execute_result"
    }
   ],
   "source": [
    "# converters={컬럼명:타입} : 컬럼을 지정한 타입으로 변경\n",
    "wb = pd.read_excel('data/webbrowser_share.xls', converters={'date':np.str})\n",
    "wb.set_index('date', inplace=True)\n",
    "wb"
   ]
  },
  {
   "cell_type": "code",
   "execution_count": 4,
   "metadata": {},
   "outputs": [
    {
     "data": {
      "text/html": [
       "<div>\n",
       "<style scoped>\n",
       "    .dataframe tbody tr th:only-of-type {\n",
       "        vertical-align: middle;\n",
       "    }\n",
       "\n",
       "    .dataframe tbody tr th {\n",
       "        vertical-align: top;\n",
       "    }\n",
       "\n",
       "    .dataframe thead th {\n",
       "        text-align: right;\n",
       "    }\n",
       "</style>\n",
       "<table border=\"1\" class=\"dataframe\">\n",
       "  <thead>\n",
       "    <tr style=\"text-align: right;\">\n",
       "      <th></th>\n",
       "      <th>Chrome</th>\n",
       "      <th>Edge</th>\n",
       "      <th>IE</th>\n",
       "      <th>Whale Browser</th>\n",
       "      <th>Safari</th>\n",
       "      <th>Firefox</th>\n",
       "      <th>Opera</th>\n",
       "    </tr>\n",
       "    <tr>\n",
       "      <th>date</th>\n",
       "      <th></th>\n",
       "      <th></th>\n",
       "      <th></th>\n",
       "      <th></th>\n",
       "      <th></th>\n",
       "      <th></th>\n",
       "      <th></th>\n",
       "    </tr>\n",
       "  </thead>\n",
       "  <tbody>\n",
       "    <tr>\n",
       "      <th>2021.06</th>\n",
       "      <td>70.43</td>\n",
       "      <td>12.84</td>\n",
       "      <td>5.85</td>\n",
       "      <td>5.45</td>\n",
       "      <td>2.46</td>\n",
       "      <td>1.72</td>\n",
       "      <td>0.59</td>\n",
       "    </tr>\n",
       "    <tr>\n",
       "      <th>2021.07</th>\n",
       "      <td>69.90</td>\n",
       "      <td>13.71</td>\n",
       "      <td>5.56</td>\n",
       "      <td>5.23</td>\n",
       "      <td>2.42</td>\n",
       "      <td>1.84</td>\n",
       "      <td>0.71</td>\n",
       "    </tr>\n",
       "    <tr>\n",
       "      <th>2021.08</th>\n",
       "      <td>69.34</td>\n",
       "      <td>14.46</td>\n",
       "      <td>5.27</td>\n",
       "      <td>5.46</td>\n",
       "      <td>2.54</td>\n",
       "      <td>1.75</td>\n",
       "      <td>0.62</td>\n",
       "    </tr>\n",
       "    <tr>\n",
       "      <th>2021.09</th>\n",
       "      <td>69.92</td>\n",
       "      <td>14.57</td>\n",
       "      <td>4.53</td>\n",
       "      <td>5.52</td>\n",
       "      <td>2.50</td>\n",
       "      <td>1.74</td>\n",
       "      <td>0.69</td>\n",
       "    </tr>\n",
       "    <tr>\n",
       "      <th>2021.10</th>\n",
       "      <td>70.49</td>\n",
       "      <td>14.78</td>\n",
       "      <td>3.42</td>\n",
       "      <td>5.87</td>\n",
       "      <td>2.51</td>\n",
       "      <td>1.82</td>\n",
       "      <td>0.62</td>\n",
       "    </tr>\n",
       "    <tr>\n",
       "      <th>2021.11</th>\n",
       "      <td>70.57</td>\n",
       "      <td>14.88</td>\n",
       "      <td>3.17</td>\n",
       "      <td>5.90</td>\n",
       "      <td>2.57</td>\n",
       "      <td>1.77</td>\n",
       "      <td>0.64</td>\n",
       "    </tr>\n",
       "    <tr>\n",
       "      <th>2021.12</th>\n",
       "      <td>70.89</td>\n",
       "      <td>14.90</td>\n",
       "      <td>2.86</td>\n",
       "      <td>5.99</td>\n",
       "      <td>2.53</td>\n",
       "      <td>1.79</td>\n",
       "      <td>0.59</td>\n",
       "    </tr>\n",
       "    <tr>\n",
       "      <th>2022.01</th>\n",
       "      <td>71.09</td>\n",
       "      <td>15.18</td>\n",
       "      <td>2.58</td>\n",
       "      <td>5.79</td>\n",
       "      <td>2.55</td>\n",
       "      <td>1.86</td>\n",
       "      <td>0.58</td>\n",
       "    </tr>\n",
       "    <tr>\n",
       "      <th>2022.02</th>\n",
       "      <td>71.02</td>\n",
       "      <td>15.72</td>\n",
       "      <td>1.90</td>\n",
       "      <td>5.73</td>\n",
       "      <td>2.66</td>\n",
       "      <td>2.07</td>\n",
       "      <td>0.59</td>\n",
       "    </tr>\n",
       "    <tr>\n",
       "      <th>2022.03</th>\n",
       "      <td>72.87</td>\n",
       "      <td>14.43</td>\n",
       "      <td>1.81</td>\n",
       "      <td>5.51</td>\n",
       "      <td>2.59</td>\n",
       "      <td>2.00</td>\n",
       "      <td>0.53</td>\n",
       "    </tr>\n",
       "    <tr>\n",
       "      <th>2022.04</th>\n",
       "      <td>71.73</td>\n",
       "      <td>14.92</td>\n",
       "      <td>1.79</td>\n",
       "      <td>5.71</td>\n",
       "      <td>2.45</td>\n",
       "      <td>2.47</td>\n",
       "      <td>0.60</td>\n",
       "    </tr>\n",
       "    <tr>\n",
       "      <th>2022.05</th>\n",
       "      <td>71.25</td>\n",
       "      <td>15.72</td>\n",
       "      <td>1.59</td>\n",
       "      <td>5.85</td>\n",
       "      <td>2.63</td>\n",
       "      <td>2.11</td>\n",
       "      <td>0.53</td>\n",
       "    </tr>\n",
       "    <tr>\n",
       "      <th>2022.06</th>\n",
       "      <td>71.14</td>\n",
       "      <td>15.92</td>\n",
       "      <td>1.31</td>\n",
       "      <td>6.06</td>\n",
       "      <td>2.74</td>\n",
       "      <td>1.92</td>\n",
       "      <td>0.59</td>\n",
       "    </tr>\n",
       "  </tbody>\n",
       "</table>\n",
       "</div>"
      ],
      "text/plain": [
       "         Chrome   Edge    IE  Whale Browser  Safari  Firefox  Opera\n",
       "date                                                               \n",
       "2021.06   70.43  12.84  5.85           5.45    2.46     1.72   0.59\n",
       "2021.07   69.90  13.71  5.56           5.23    2.42     1.84   0.71\n",
       "2021.08   69.34  14.46  5.27           5.46    2.54     1.75   0.62\n",
       "2021.09   69.92  14.57  4.53           5.52    2.50     1.74   0.69\n",
       "2021.10   70.49  14.78  3.42           5.87    2.51     1.82   0.62\n",
       "2021.11   70.57  14.88  3.17           5.90    2.57     1.77   0.64\n",
       "2021.12   70.89  14.90  2.86           5.99    2.53     1.79   0.59\n",
       "2022.01   71.09  15.18  2.58           5.79    2.55     1.86   0.58\n",
       "2022.02   71.02  15.72  1.90           5.73    2.66     2.07   0.59\n",
       "2022.03   72.87  14.43  1.81           5.51    2.59     2.00   0.53\n",
       "2022.04   71.73  14.92  1.79           5.71    2.45     2.47   0.60\n",
       "2022.05   71.25  15.72  1.59           5.85    2.63     2.11   0.53\n",
       "2022.06   71.14  15.92  1.31           6.06    2.74     1.92   0.59"
      ]
     },
     "execution_count": 4,
     "metadata": {},
     "output_type": "execute_result"
    }
   ],
   "source": [
    "# oprea 까지 표시\n",
    "cols = wb.columns\n",
    "wr = wb[cols[:7]].copy()\n",
    "wr"
   ]
  },
  {
   "cell_type": "code",
   "execution_count": 5,
   "metadata": {},
   "outputs": [
    {
     "data": {
      "text/html": [
       "<div>\n",
       "<style scoped>\n",
       "    .dataframe tbody tr th:only-of-type {\n",
       "        vertical-align: middle;\n",
       "    }\n",
       "\n",
       "    .dataframe tbody tr th {\n",
       "        vertical-align: top;\n",
       "    }\n",
       "\n",
       "    .dataframe thead th {\n",
       "        text-align: right;\n",
       "    }\n",
       "</style>\n",
       "<table border=\"1\" class=\"dataframe\">\n",
       "  <thead>\n",
       "    <tr style=\"text-align: right;\">\n",
       "      <th></th>\n",
       "      <th>Chrome</th>\n",
       "      <th>Edge</th>\n",
       "      <th>IE</th>\n",
       "      <th>Whale Browser</th>\n",
       "      <th>Safari</th>\n",
       "      <th>Firefox</th>\n",
       "      <th>Opera</th>\n",
       "      <th>etc</th>\n",
       "    </tr>\n",
       "    <tr>\n",
       "      <th>date</th>\n",
       "      <th></th>\n",
       "      <th></th>\n",
       "      <th></th>\n",
       "      <th></th>\n",
       "      <th></th>\n",
       "      <th></th>\n",
       "      <th></th>\n",
       "      <th></th>\n",
       "    </tr>\n",
       "  </thead>\n",
       "  <tbody>\n",
       "    <tr>\n",
       "      <th>2021.06</th>\n",
       "      <td>70.43</td>\n",
       "      <td>12.84</td>\n",
       "      <td>5.85</td>\n",
       "      <td>5.45</td>\n",
       "      <td>2.46</td>\n",
       "      <td>1.72</td>\n",
       "      <td>0.59</td>\n",
       "      <td>0.64</td>\n",
       "    </tr>\n",
       "    <tr>\n",
       "      <th>2021.07</th>\n",
       "      <td>69.90</td>\n",
       "      <td>13.71</td>\n",
       "      <td>5.56</td>\n",
       "      <td>5.23</td>\n",
       "      <td>2.42</td>\n",
       "      <td>1.84</td>\n",
       "      <td>0.71</td>\n",
       "      <td>0.60</td>\n",
       "    </tr>\n",
       "    <tr>\n",
       "      <th>2021.08</th>\n",
       "      <td>69.34</td>\n",
       "      <td>14.46</td>\n",
       "      <td>5.27</td>\n",
       "      <td>5.46</td>\n",
       "      <td>2.54</td>\n",
       "      <td>1.75</td>\n",
       "      <td>0.62</td>\n",
       "      <td>0.54</td>\n",
       "    </tr>\n",
       "    <tr>\n",
       "      <th>2021.09</th>\n",
       "      <td>69.92</td>\n",
       "      <td>14.57</td>\n",
       "      <td>4.53</td>\n",
       "      <td>5.52</td>\n",
       "      <td>2.50</td>\n",
       "      <td>1.74</td>\n",
       "      <td>0.69</td>\n",
       "      <td>0.50</td>\n",
       "    </tr>\n",
       "    <tr>\n",
       "      <th>2021.10</th>\n",
       "      <td>70.49</td>\n",
       "      <td>14.78</td>\n",
       "      <td>3.42</td>\n",
       "      <td>5.87</td>\n",
       "      <td>2.51</td>\n",
       "      <td>1.82</td>\n",
       "      <td>0.62</td>\n",
       "      <td>0.46</td>\n",
       "    </tr>\n",
       "    <tr>\n",
       "      <th>2021.11</th>\n",
       "      <td>70.57</td>\n",
       "      <td>14.88</td>\n",
       "      <td>3.17</td>\n",
       "      <td>5.90</td>\n",
       "      <td>2.57</td>\n",
       "      <td>1.77</td>\n",
       "      <td>0.64</td>\n",
       "      <td>0.45</td>\n",
       "    </tr>\n",
       "    <tr>\n",
       "      <th>2021.12</th>\n",
       "      <td>70.89</td>\n",
       "      <td>14.90</td>\n",
       "      <td>2.86</td>\n",
       "      <td>5.99</td>\n",
       "      <td>2.53</td>\n",
       "      <td>1.79</td>\n",
       "      <td>0.59</td>\n",
       "      <td>0.43</td>\n",
       "    </tr>\n",
       "    <tr>\n",
       "      <th>2022.01</th>\n",
       "      <td>71.09</td>\n",
       "      <td>15.18</td>\n",
       "      <td>2.58</td>\n",
       "      <td>5.79</td>\n",
       "      <td>2.55</td>\n",
       "      <td>1.86</td>\n",
       "      <td>0.58</td>\n",
       "      <td>0.34</td>\n",
       "    </tr>\n",
       "    <tr>\n",
       "      <th>2022.02</th>\n",
       "      <td>71.02</td>\n",
       "      <td>15.72</td>\n",
       "      <td>1.90</td>\n",
       "      <td>5.73</td>\n",
       "      <td>2.66</td>\n",
       "      <td>2.07</td>\n",
       "      <td>0.59</td>\n",
       "      <td>0.28</td>\n",
       "    </tr>\n",
       "    <tr>\n",
       "      <th>2022.03</th>\n",
       "      <td>72.87</td>\n",
       "      <td>14.43</td>\n",
       "      <td>1.81</td>\n",
       "      <td>5.51</td>\n",
       "      <td>2.59</td>\n",
       "      <td>2.00</td>\n",
       "      <td>0.53</td>\n",
       "      <td>0.26</td>\n",
       "    </tr>\n",
       "    <tr>\n",
       "      <th>2022.04</th>\n",
       "      <td>71.73</td>\n",
       "      <td>14.92</td>\n",
       "      <td>1.79</td>\n",
       "      <td>5.71</td>\n",
       "      <td>2.45</td>\n",
       "      <td>2.47</td>\n",
       "      <td>0.60</td>\n",
       "      <td>0.30</td>\n",
       "    </tr>\n",
       "    <tr>\n",
       "      <th>2022.05</th>\n",
       "      <td>71.25</td>\n",
       "      <td>15.72</td>\n",
       "      <td>1.59</td>\n",
       "      <td>5.85</td>\n",
       "      <td>2.63</td>\n",
       "      <td>2.11</td>\n",
       "      <td>0.53</td>\n",
       "      <td>0.30</td>\n",
       "    </tr>\n",
       "    <tr>\n",
       "      <th>2022.06</th>\n",
       "      <td>71.14</td>\n",
       "      <td>15.92</td>\n",
       "      <td>1.31</td>\n",
       "      <td>6.06</td>\n",
       "      <td>2.74</td>\n",
       "      <td>1.92</td>\n",
       "      <td>0.59</td>\n",
       "      <td>0.30</td>\n",
       "    </tr>\n",
       "  </tbody>\n",
       "</table>\n",
       "</div>"
      ],
      "text/plain": [
       "         Chrome   Edge    IE  Whale Browser  Safari  Firefox  Opera   etc\n",
       "date                                                                     \n",
       "2021.06   70.43  12.84  5.85           5.45    2.46     1.72   0.59  0.64\n",
       "2021.07   69.90  13.71  5.56           5.23    2.42     1.84   0.71  0.60\n",
       "2021.08   69.34  14.46  5.27           5.46    2.54     1.75   0.62  0.54\n",
       "2021.09   69.92  14.57  4.53           5.52    2.50     1.74   0.69  0.50\n",
       "2021.10   70.49  14.78  3.42           5.87    2.51     1.82   0.62  0.46\n",
       "2021.11   70.57  14.88  3.17           5.90    2.57     1.77   0.64  0.45\n",
       "2021.12   70.89  14.90  2.86           5.99    2.53     1.79   0.59  0.43\n",
       "2022.01   71.09  15.18  2.58           5.79    2.55     1.86   0.58  0.34\n",
       "2022.02   71.02  15.72  1.90           5.73    2.66     2.07   0.59  0.28\n",
       "2022.03   72.87  14.43  1.81           5.51    2.59     2.00   0.53  0.26\n",
       "2022.04   71.73  14.92  1.79           5.71    2.45     2.47   0.60  0.30\n",
       "2022.05   71.25  15.72  1.59           5.85    2.63     2.11   0.53  0.30\n",
       "2022.06   71.14  15.92  1.31           6.06    2.74     1.92   0.59  0.30"
      ]
     },
     "execution_count": 5,
     "metadata": {},
     "output_type": "execute_result"
    }
   ],
   "source": [
    "# oprea 외 브라우저 기타로 병합하여 추가\n",
    "wr['etc'] = wb[cols[7:]].sum(axis=1)\n",
    "wr"
   ]
  },
  {
   "cell_type": "code",
   "execution_count": 6,
   "metadata": {},
   "outputs": [
    {
     "data": {
      "image/png": "[encoded data removed]",
      "text/plain": [
       "<Figure size 576x576 with 1 Axes>"
      ]
     },
     "metadata": {},
     "output_type": "display_data"
    }
   ],
   "source": [
    "# 2021.6월 WB의 점유율 pie chart로 확인\n",
    "plt.figure(figsize=(8,8))\n",
    "plt.pie(wr.iloc[0], labels=wr.columns, autopct='%.2f%%',\n",
    "        pctdistance=0.9, # %표시 위치 조정\n",
    "        labeldistance=1.1, # 라벨 위치 조정\n",
    "        shadow=True\n",
    "       )\n",
    "plt.title('2021년 6월 웹브라우저 점유율')\n",
    "plt.show()"
   ]
  },
  {
   "cell_type": "markdown",
   "metadata": {},
   "source": [
    "# 5 히스토그램 그리기\n",
    "## .1 히스토그램\n",
    "- 표로 된 도수 분포표를 그래프로 나타낸 것\n",
    "    - 도수분포표: 특정 그룹안에 값의 빈도를 나타낸 표\n",
    "    - 주로 연속형 자료를 특정 구간으로 나눠 그 빈도를 확인\n",
    "        - 빈도 확인이나 **분포**를 볼때 사용\n",
    "    - X축: 계급(변수구간)의 대표값, Y축: 빈도수\n",
    "- `hist(data [, bins=계급개수)` 메소드를 사용\n",
    "    - data: 리스트형의 객체를 전달"
   ]
  },
  {
   "cell_type": "code",
   "execution_count": 7,
   "metadata": {},
   "outputs": [
    {
     "data": {
      "text/plain": [
       "131.428481    1\n",
       "96.280592     1\n",
       "96.839047     1\n",
       "96.802392     1\n",
       "96.767766     1\n",
       "             ..\n",
       "105.291334    1\n",
       "105.263460    1\n",
       "105.258781    1\n",
       "105.246546    1\n",
       "75.094840     1\n",
       "Length: 1000, dtype: int64"
      ]
     },
     "execution_count": 7,
     "metadata": {},
     "output_type": "execute_result"
    }
   ],
   "source": [
    "# 평균 = 100, 표준편차가 10인 정규분포를 따르는 임의의 수 1000개 생성 \n",
    "data = np.random.normal(100, 10, 1000)\n",
    "# 시리즈로 변환\n",
    "s = pd.Series(data)\n",
    "v = s.sort_values(ascending=False).value_counts()\n",
    "v"
   ]
  },
  {
   "cell_type": "code",
   "execution_count": 8,
   "metadata": {},
   "outputs": [
    {
     "data": {
      "text/plain": [
       "<function matplotlib.pyplot.show(close=None, block=None)>"
      ]
     },
     "execution_count": 8,
     "metadata": {},
     "output_type": "execute_result"
    },
    {
     "data": {
      "image/png": "[encoded data removed]",
      "text/plain": [
       "<Figure size 432x288 with 1 Axes>"
      ]
     },
     "metadata": {
      "needs_background": "light"
     },
     "output_type": "display_data"
    }
   ],
   "source": [
    "# 연속형 값들의 수량 파악 후 막대그래프로 시각화\n",
    "plt.bar(v.index, v)\n",
    "plt.show"
   ]
  },
  {
   "cell_type": "code",
   "execution_count": 9,
   "metadata": {},
   "outputs": [
    {
     "data": {
      "image/png": "[encoded data removed]",
      "text/plain": [
       "<Figure size 720x504 with 1 Axes>"
      ]
     },
     "metadata": {
      "needs_background": "light"
     },
     "output_type": "display_data"
    }
   ],
   "source": [
    "plt.figure(figsize=(10,7))\n",
    "plt.hist(s, bins=1000)\n",
    "plt.xlabel('bins')\n",
    "plt.ylabel('수량')\n",
    "plt.show()"
   ]
  },
  {
   "cell_type": "markdown",
   "metadata": {},
   "source": [
    "## 5.2 히스토그램 활용\n",
    "- tips.csv\n",
    "    - 식당에서 팁을 지불한 손님의 정보를 모아둔 데이터 셋    "
   ]
  },
  {
   "cell_type": "code",
   "execution_count": 10,
   "metadata": {},
   "outputs": [
    {
     "data": {
      "text/html": [
       "<div>\n",
       "<style scoped>\n",
       "    .dataframe tbody tr th:only-of-type {\n",
       "        vertical-align: middle;\n",
       "    }\n",
       "\n",
       "    .dataframe tbody tr th {\n",
       "        vertical-align: top;\n",
       "    }\n",
       "\n",
       "    .dataframe thead th {\n",
       "        text-align: right;\n",
       "    }\n",
       "</style>\n",
       "<table border=\"1\" class=\"dataframe\">\n",
       "  <thead>\n",
       "    <tr style=\"text-align: right;\">\n",
       "      <th></th>\n",
       "      <th>total_bill</th>\n",
       "      <th>tip</th>\n",
       "      <th>sex</th>\n",
       "      <th>smoker</th>\n",
       "      <th>day</th>\n",
       "      <th>time</th>\n",
       "      <th>size</th>\n",
       "    </tr>\n",
       "  </thead>\n",
       "  <tbody>\n",
       "    <tr>\n",
       "      <th>0</th>\n",
       "      <td>16.99</td>\n",
       "      <td>1.01</td>\n",
       "      <td>Female</td>\n",
       "      <td>No</td>\n",
       "      <td>Sun</td>\n",
       "      <td>Dinner</td>\n",
       "      <td>2</td>\n",
       "    </tr>\n",
       "    <tr>\n",
       "      <th>1</th>\n",
       "      <td>10.34</td>\n",
       "      <td>1.66</td>\n",
       "      <td>Male</td>\n",
       "      <td>No</td>\n",
       "      <td>Sun</td>\n",
       "      <td>Dinner</td>\n",
       "      <td>3</td>\n",
       "    </tr>\n",
       "    <tr>\n",
       "      <th>2</th>\n",
       "      <td>21.01</td>\n",
       "      <td>3.50</td>\n",
       "      <td>Male</td>\n",
       "      <td>No</td>\n",
       "      <td>Sun</td>\n",
       "      <td>Dinner</td>\n",
       "      <td>3</td>\n",
       "    </tr>\n",
       "    <tr>\n",
       "      <th>3</th>\n",
       "      <td>23.68</td>\n",
       "      <td>3.31</td>\n",
       "      <td>Male</td>\n",
       "      <td>No</td>\n",
       "      <td>Sun</td>\n",
       "      <td>Dinner</td>\n",
       "      <td>2</td>\n",
       "    </tr>\n",
       "    <tr>\n",
       "      <th>4</th>\n",
       "      <td>24.59</td>\n",
       "      <td>3.61</td>\n",
       "      <td>Female</td>\n",
       "      <td>No</td>\n",
       "      <td>Sun</td>\n",
       "      <td>Dinner</td>\n",
       "      <td>4</td>\n",
       "    </tr>\n",
       "    <tr>\n",
       "      <th>...</th>\n",
       "      <td>...</td>\n",
       "      <td>...</td>\n",
       "      <td>...</td>\n",
       "      <td>...</td>\n",
       "      <td>...</td>\n",
       "      <td>...</td>\n",
       "      <td>...</td>\n",
       "    </tr>\n",
       "    <tr>\n",
       "      <th>239</th>\n",
       "      <td>29.03</td>\n",
       "      <td>5.92</td>\n",
       "      <td>Male</td>\n",
       "      <td>No</td>\n",
       "      <td>Sat</td>\n",
       "      <td>Dinner</td>\n",
       "      <td>3</td>\n",
       "    </tr>\n",
       "    <tr>\n",
       "      <th>240</th>\n",
       "      <td>27.18</td>\n",
       "      <td>2.00</td>\n",
       "      <td>Female</td>\n",
       "      <td>Yes</td>\n",
       "      <td>Sat</td>\n",
       "      <td>Dinner</td>\n",
       "      <td>2</td>\n",
       "    </tr>\n",
       "    <tr>\n",
       "      <th>241</th>\n",
       "      <td>22.67</td>\n",
       "      <td>2.00</td>\n",
       "      <td>Male</td>\n",
       "      <td>Yes</td>\n",
       "      <td>Sat</td>\n",
       "      <td>Dinner</td>\n",
       "      <td>2</td>\n",
       "    </tr>\n",
       "    <tr>\n",
       "      <th>242</th>\n",
       "      <td>17.82</td>\n",
       "      <td>1.75</td>\n",
       "      <td>Male</td>\n",
       "      <td>No</td>\n",
       "      <td>Sat</td>\n",
       "      <td>Dinner</td>\n",
       "      <td>2</td>\n",
       "    </tr>\n",
       "    <tr>\n",
       "      <th>243</th>\n",
       "      <td>18.78</td>\n",
       "      <td>3.00</td>\n",
       "      <td>Female</td>\n",
       "      <td>No</td>\n",
       "      <td>Thur</td>\n",
       "      <td>Dinner</td>\n",
       "      <td>2</td>\n",
       "    </tr>\n",
       "  </tbody>\n",
       "</table>\n",
       "<p>244 rows × 7 columns</p>\n",
       "</div>"
      ],
      "text/plain": [
       "     total_bill   tip     sex smoker   day    time  size\n",
       "0         16.99  1.01  Female     No   Sun  Dinner     2\n",
       "1         10.34  1.66    Male     No   Sun  Dinner     3\n",
       "2         21.01  3.50    Male     No   Sun  Dinner     3\n",
       "3         23.68  3.31    Male     No   Sun  Dinner     2\n",
       "4         24.59  3.61  Female     No   Sun  Dinner     4\n",
       "..          ...   ...     ...    ...   ...     ...   ...\n",
       "239       29.03  5.92    Male     No   Sat  Dinner     3\n",
       "240       27.18  2.00  Female    Yes   Sat  Dinner     2\n",
       "241       22.67  2.00    Male    Yes   Sat  Dinner     2\n",
       "242       17.82  1.75    Male     No   Sat  Dinner     2\n",
       "243       18.78  3.00  Female     No  Thur  Dinner     2\n",
       "\n",
       "[244 rows x 7 columns]"
      ]
     },
     "execution_count": 10,
     "metadata": {},
     "output_type": "execute_result"
    }
   ],
   "source": [
    "tips = pd.read_csv('data/tips.csv')\n",
    "tips"
   ]
  },
  {
   "cell_type": "markdown",
   "metadata": {},
   "source": [
    "### total_bill 의 분포를 시각화"
   ]
  },
  {
   "cell_type": "code",
   "execution_count": 11,
   "metadata": {},
   "outputs": [
    {
     "data": {
      "image/png": "[encoded data removed]",
      "text/plain": [
       "<Figure size 720x504 with 1 Axes>"
      ]
     },
     "metadata": {
      "needs_background": "light"
     },
     "output_type": "display_data"
    }
   ],
   "source": [
    "# total_bill 분포 시각화\n",
    "plt.figure(figsize=(10,7))\n",
    "plt.hist(tips['total_bill'], bins=30)\n",
    "plt.show()"
   ]
  },
  {
   "cell_type": "code",
   "execution_count": 12,
   "metadata": {},
   "outputs": [
    {
     "data": {
      "image/png": "[encoded data removed]",
      "text/plain": [
       "<Figure size 720x504 with 1 Axes>"
      ]
     },
     "metadata": {
      "needs_background": "light"
     },
     "output_type": "display_data"
    }
   ],
   "source": [
    "# tip 분포 시각화\n",
    "plt.figure(figsize=(10,7))\n",
    "plt.hist(tips['tip'], bins=30)\n",
    "plt.show()"
   ]
  },
  {
   "cell_type": "code",
   "execution_count": 13,
   "metadata": {},
   "outputs": [
    {
     "data": {
      "image/png": "[encoded data removed]",
      "text/plain": [
       "<Figure size 432x288 with 1 Axes>"
      ]
     },
     "metadata": {
      "needs_background": "light"
     },
     "output_type": "display_data"
    }
   ],
   "source": [
    "# smoker 분포 사각화 (Yes/No 문자열만 있으므로 히스토그램 불가)\n",
    "r = tips['smoker'].value_counts()\n",
    "plt.bar(r.index, r)\n",
    "plt.show()"
   ]
  },
  {
   "cell_type": "markdown",
   "metadata": {},
   "source": [
    "# 6. 상자그래프(Boxplot) 그리기\n",
    "## 6.1 상자그래프란\n",
    "- 연속형 값들의 분포, 이상치(극단값)를 확인 시 사용\n",
    "    - 극단치 : 대부분의 값들이 분포된 범위에서 크게 떨어져 있는 값\n",
    "    - 값들의 중간값, 사분위수, 최대/최소값을 보여주어 값들의 분포를 확인 시 사용\n",
    "- boxplot(x, whis=1.5)\n",
    "    - x: 데이터셋\n",
    "    - whis: 극단치 계산시 사용할 값(기본 1.5)\n",
    "        - 극단치 : 1사분위와 3사분위에서 $IQR(3사분위수-1사분위수) * whis$ 범위 이상 떨어진 값들"
   ]
  },
  {
   "cell_type": "code",
   "execution_count": 14,
   "metadata": {},
   "outputs": [
    {
     "data": {
      "text/plain": [
       "min     1\n",
       "max    99\n",
       "dtype: int32"
      ]
     },
     "execution_count": 14,
     "metadata": {},
     "output_type": "execute_result"
    }
   ],
   "source": [
    "data = pd.Series(np.random.randint(1, 100, 1000)) # 1 ~ 100-1 사이의 임의의 정수 1000개 생성\n",
    "data.agg(['min', 'max'])"
   ]
  },
  {
   "cell_type": "code",
   "execution_count": 15,
   "metadata": {},
   "outputs": [
    {
     "data": {
      "text/plain": [
       "0    300\n",
       "1    290\n",
       "2    -50\n",
       "3    -40\n",
       "4    350\n",
       "dtype: int32"
      ]
     },
     "execution_count": 15,
     "metadata": {},
     "output_type": "execute_result"
    }
   ],
   "source": [
    "# 일부 값들을 극단적으로 크거나 작은 값으로 변경\n",
    "data[:5] = [300, 290, -50, -40, 350]\n",
    "data[:5]"
   ]
  },
  {
   "cell_type": "code",
   "execution_count": 16,
   "metadata": {},
   "outputs": [
    {
     "data": {
      "image/png": "[encoded data removed]",
      "text/plain": [
       "<Figure size 720x720 with 1 Axes>"
      ]
     },
     "metadata": {
      "needs_background": "light"
     },
     "output_type": "display_data"
    }
   ],
   "source": [
    "# 상자그래프 생성\n",
    "plt.figure(figsize=(10,10))\n",
    "plt.boxplot(data)\n",
    "plt.ylabel('data 구성 값')\n",
    "plt.show()"
   ]
  },
  {
   "cell_type": "markdown",
   "metadata": {},
   "source": [
    "- 연속된 값들의 분포 확인 : histogram, boxplot\n",
    "     - histogram : 연속된 값들을 그룹으로 나눈 후 수량 시각화\n",
    "     - boxplot : 값의 범위를 기준으로 시각화(4분위수 중심), 수량 정보 없음"
   ]
  },
  {
   "cell_type": "markdown",
   "metadata": {},
   "source": [
    "## 상자그래프 활용\n",
    "- tips_df 에서 tip의 분포를 상자그래프로 확인"
   ]
  },
  {
   "cell_type": "code",
   "execution_count": 17,
   "metadata": {},
   "outputs": [
    {
     "data": {
      "image/png": "[encoded data removed]",
      "text/plain": [
       "<Figure size 504x576 with 1 Axes>"
      ]
     },
     "metadata": {
      "needs_background": "light"
     },
     "output_type": "display_data"
    }
   ],
   "source": [
    "plt.figure(figsize=(7,8))\n",
    "plt.boxplot(tips['tip'], labels=['tips'])\n",
    "plt.show()"
   ]
  },
  {
   "cell_type": "code",
   "execution_count": 18,
   "metadata": {
    "scrolled": false
   },
   "outputs": [
    {
     "data": {
      "image/png": "[encoded data removed]",
      "text/plain": [
       "<Figure size 504x576 with 1 Axes>"
      ]
     },
     "metadata": {
      "needs_background": "light"
     },
     "output_type": "display_data"
    }
   ],
   "source": [
    "plt.figure(figsize=(7,8))\n",
    "plt.boxplot(tips['total_bill'], labels=['total_bill'])\n",
    "plt.show()"
   ]
  },
  {
   "cell_type": "code",
   "execution_count": 19,
   "metadata": {},
   "outputs": [
    {
     "data": {
      "image/png": "[encoded data removed]",
      "text/plain": [
       "<Figure size 504x576 with 1 Axes>"
      ]
     },
     "metadata": {
      "needs_background": "light"
     },
     "output_type": "display_data"
    }
   ],
   "source": [
    "# tip, total_bill의 분포 비교\n",
    "plt.figure(figsize=(7,8))\n",
    "plt.boxplot(tips['tip'], labels=['tips'])\n",
    "plt.boxplot(tips['total_bill'], labels=['total_bill'])\n",
    "plt.show()\n",
    "\n",
    "# 중복 현상 발생"
   ]
  },
  {
   "cell_type": "code",
   "execution_count": 20,
   "metadata": {},
   "outputs": [
    {
     "data": {
      "image/png": "[encoded data removed]",
      "text/plain": [
       "<Figure size 504x576 with 1 Axes>"
      ]
     },
     "metadata": {
      "needs_background": "light"
     },
     "output_type": "display_data"
    }
   ],
   "source": [
    "plt.figure(figsize=(7,8))\n",
    "plt.boxplot([tips['total_bill'], tips['total_bill']], labels=['tip', 'total_bill'])\n",
    "plt.show()"
   ]
  },
  {
   "cell_type": "markdown",
   "metadata": {
    "ExecuteTime": {
     "end_time": "2019-06-04T20:34:30.368466Z",
     "start_time": "2019-06-04T20:34:30.363449Z"
    }
   },
   "source": [
    "- 남녀별 tip의 분포글 하나의 boxplot에서 그려 분포 비교\n",
    "- 한 그래프에서 여러 데이터셋의 boxplot을 그리기\n",
    "    - 2차원 배열형태의 구조로로 데이터를 제공\n",
    "    - 행(axis=0) 별로 그래프 생성"
   ]
  },
  {
   "cell_type": "code",
   "execution_count": 21,
   "metadata": {},
   "outputs": [
    {
     "data": {
      "image/png": "[encoded data removed]",
      "text/plain": [
       "<Figure size 720x576 with 1 Axes>"
      ]
     },
     "metadata": {
      "needs_background": "light"
     },
     "output_type": "display_data"
    }
   ],
   "source": [
    "mt = tips.loc[tips['sex'] == 'Male', 'tip']\n",
    "ft = tips.loc[tips['sex'] == 'Female', 'tip']\n",
    "plt.figure(figsize=(10,8))\n",
    "plt.boxplot([mt, ft], labels=['Male', 'Female'])\n",
    "plt.ylabel('tip')\n",
    "plt.show()"
   ]
  }
 ],
 "metadata": {
  "kernelspec": {
   "display_name": "Python 3 (ipykernel)",
   "language": "python",
   "name": "python3"
  },
  "language_info": {
   "codemirror_mode": {
    "name": "ipython",
    "version": 3
   },
   "file_extension": ".py",
   "mimetype": "text/x-python",
   "name": "python",
   "nbconvert_exporter": "python",
   "pygments_lexer": "ipython3",
   "version": "3.8.13"
  },
  "toc": {
   "base_numbering": 1,
   "nav_menu": {},
   "number_sections": false,
   "sideBar": false,
   "skip_h1_title": false,
   "title_cell": "Table of Contents",
   "title_sidebar": "Contents",
   "toc_cell": false,
   "toc_position": {},
   "toc_section_display": true,
   "toc_window_display": false
  },
  "varInspector": {
   "cols": {
    "lenName": 16,
    "lenType": 16,
    "lenVar": 40
   },
   "kernels_config": {
    "python": {
     "delete_cmd_postfix": "",
     "delete_cmd_prefix": "del ",
     "library": "var_list.py",
     "varRefreshCmd": "print(var_dic_list())"
    },
    "r": {
     "delete_cmd_postfix": ") ",
     "delete_cmd_prefix": "rm(",
     "library": "var_list.r",
     "varRefreshCmd": "cat(var_dic_list()) "
    }
   },
   "types_to_exclude": [
    "module",
    "function",
    "builtin_function_or_method",
    "instance",
    "_Feature"
   ],
   "window_display": false
  }
 },
 "nbformat": 4,
 "nbformat_minor": 2
}
